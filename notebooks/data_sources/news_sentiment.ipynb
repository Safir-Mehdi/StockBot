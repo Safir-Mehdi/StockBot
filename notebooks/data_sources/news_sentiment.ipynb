{
 "cells": [
  {
   "cell_type": "markdown",
   "id": "9e36b75d",
   "metadata": {},
   "source": [
    "## ⚠️ Data Scouring Halted\n",
    "\n",
    "> **Note:**  \n",
    "> Data scouring for news sentiment could not be continued due to the requirement of a paid subscription for the data source."
   ]
  },
  {
   "cell_type": "code",
   "execution_count": 69,
   "id": "76d477df",
   "metadata": {},
   "outputs": [],
   "source": [
    "import os\n",
    "import finnhub\n",
    "import pandas as pd\n",
    "from dotenv import load_dotenv\n",
    "from datetime import datetime"
   ]
  },
  {
   "cell_type": "markdown",
   "id": "7756365e",
   "metadata": {},
   "source": [
    "## Top 10 Tickers in the Dataset\n",
    "\n",
    "Below is a table showing the top 10 most frequently mentioned ticker symbols in the news dataset. These tickers represent some of the most actively discussed companies in the US capital markets between 2020 and 2024.\n",
    "\n",
    "| Rank | Ticker Symbol |\n",
    "|------|:-------------|\n",
    "| 1    | AAPL         |\n",
    "| 2    | MSFT         |\n",
    "| 3    | GOOGL        |\n",
    "| 4    | AMZN         |\n",
    "| 5    | META         |\n",
    "| 6    | TSLA         |\n",
    "| 7    | NVDA         |\n",
    "| 8    | JPM          |\n",
    "| 9    | V            |\n",
    "| 10   | UNH          |\n"
   ]
  },
  {
   "cell_type": "markdown",
   "id": "36eef4c0",
   "metadata": {},
   "source": [
    "## Step 1: Data Sourcing\n",
    "- **Goal:** Obtain the raw financial news data.\n",
    "- **Action:** Acquire news articles, headlines, and summaries along with their timestamps and associated ticker symbols. This can be done by:\n",
    "    - Using financial data APIs (like Finnhub, accessing endpoints for news).\n",
    "    - Downloading pre-compiled datasets (like the one you found on Kaggle, which already provides headlines, summaries, timestamps, and symbols).\n",
    "    - (Less common for readily usable sentiment) Web scraping financial news websites.\n",
    "- **Input:** Raw news data (text, timestamps, symbols).\n",
    "- **Output:** A collection of raw news records, each containing (at a minimum): `datetime`, `headline`, `summary`, and `symbol`.\n"
   ]
  },
  {
   "cell_type": "code",
   "execution_count": 68,
   "id": "e72cc0e0",
   "metadata": {},
   "outputs": [],
   "source": [
    "load_dotenv()\n",
    "FINNHUB_API_KEY = os.getenv('FINNHUB_API_KEY')\n",
    "finnhun_client = finnhub.Client(api_key=FINNHUB_API_KEY)"
   ]
  },
  {
   "cell_type": "code",
   "execution_count": 167,
   "id": "fda70d0d",
   "metadata": {},
   "outputs": [
    {
     "name": "stdout",
     "output_type": "stream",
     "text": [
      "<class 'pandas.core.frame.DataFrame'>\n",
      "RangeIndex: 2529812 entries, 0 to 2529811\n",
      "Data columns (total 4 columns):\n",
      " #   Column    Dtype         \n",
      "---  ------    -----         \n",
      " 0   datetime  datetime64[ns]\n",
      " 1   headline  object        \n",
      " 2   summary   object        \n",
      " 3   symbol    object        \n",
      "dtypes: datetime64[ns](1), object(3)\n",
      "memory usage: 77.2+ MB\n"
     ]
    }
   ],
   "source": [
    "# Source: https://www.kaggle.com/datasets/addarm/us-capital-markets-news-headlines-2020-to-2024?select=news_data.csv\n",
    "\n",
    "os.chdir('f:\\\\Upwork Projects\\\\Trading Bot\\\\StockBot')\n",
    "os.getcwd()\n",
    "\n",
    "kaggle_columns = ['datetime', 'headline', 'summary', 'symbol']\n",
    "news = pd.read_csv('data/raw/news_data.csv', usecols=kaggle_columns)\n",
    "# news.to_csv('data/raw/fine_news_data.csv',index=False)\n",
    "news['datetime'] = pd.to_datetime(news['datetime'])\n",
    "news.info()"
   ]
  },
  {
   "cell_type": "code",
   "execution_count": 34,
   "id": "4eceea44",
   "metadata": {},
   "outputs": [
    {
     "name": "stdout",
     "output_type": "stream",
     "text": [
      "Number of Unique Tickers:  14450\n"
     ]
    }
   ],
   "source": [
    "print('Number of Unique Tickers: ', news['symbol'].nunique())"
   ]
  },
  {
   "cell_type": "code",
   "execution_count": 88,
   "id": "11cb575e",
   "metadata": {},
   "outputs": [
    {
     "data": {
      "text/html": [
       "<div>\n",
       "<style scoped>\n",
       "    .dataframe tbody tr th:only-of-type {\n",
       "        vertical-align: middle;\n",
       "    }\n",
       "\n",
       "    .dataframe tbody tr th {\n",
       "        vertical-align: top;\n",
       "    }\n",
       "\n",
       "    .dataframe thead th {\n",
       "        text-align: right;\n",
       "    }\n",
       "</style>\n",
       "<table border=\"1\" class=\"dataframe\">\n",
       "  <thead>\n",
       "    <tr style=\"text-align: right;\">\n",
       "      <th></th>\n",
       "      <th>datetime</th>\n",
       "      <th>headline</th>\n",
       "      <th>summary</th>\n",
       "      <th>symbol</th>\n",
       "    </tr>\n",
       "  </thead>\n",
       "  <tbody>\n",
       "    <tr>\n",
       "      <th>2529811</th>\n",
       "      <td>2023-04-06 01:30:00</td>\n",
       "      <td>Glazers raise Manchester United price to £6bn</td>\n",
       "      <td>The Glazer family are planning to delve deeper...</td>\n",
       "      <td>MARKET</td>\n",
       "    </tr>\n",
       "    <tr>\n",
       "      <th>2529799</th>\n",
       "      <td>2023-04-06 01:30:00</td>\n",
       "      <td>OPEC’s oil price manipulation?</td>\n",
       "      <td>An explainer on why OPEC is fiddling with oil ...</td>\n",
       "      <td>USO</td>\n",
       "    </tr>\n",
       "    <tr>\n",
       "      <th>2529800</th>\n",
       "      <td>2023-04-06 01:30:00</td>\n",
       "      <td>OPEC’s oil price manipulation?</td>\n",
       "      <td>An explainer on why OPEC is fiddling with oil ...</td>\n",
       "      <td>OIL</td>\n",
       "    </tr>\n",
       "    <tr>\n",
       "      <th>2529801</th>\n",
       "      <td>2023-04-06 01:30:00</td>\n",
       "      <td>Swiss order rescued bank Credit Suisse to canc...</td>\n",
       "      <td>Switzerland has instructed Credit Suisse to ca...</td>\n",
       "      <td>CS</td>\n",
       "    </tr>\n",
       "    <tr>\n",
       "      <th>2529802</th>\n",
       "      <td>2023-04-06 01:30:00</td>\n",
       "      <td>Glazers raise Manchester United price to £6bn</td>\n",
       "      <td>The Glazer family are planning to delve deeper...</td>\n",
       "      <td>MANU</td>\n",
       "    </tr>\n",
       "    <tr>\n",
       "      <th>...</th>\n",
       "      <td>...</td>\n",
       "      <td>...</td>\n",
       "      <td>...</td>\n",
       "      <td>...</td>\n",
       "    </tr>\n",
       "    <tr>\n",
       "      <th>12533</th>\n",
       "      <td>2024-04-05 22:42:31</td>\n",
       "      <td>Upstart NC State ''here to win,'' says coach K...</td>\n",
       "      <td>NaN</td>\n",
       "      <td>ACC</td>\n",
       "    </tr>\n",
       "    <tr>\n",
       "      <th>12532</th>\n",
       "      <td>2024-04-05 22:58:00</td>\n",
       "      <td>OTL Electrokart Begins Sales for World''s Firs...</td>\n",
       "      <td>NaN</td>\n",
       "      <td>MARKET</td>\n",
       "    </tr>\n",
       "    <tr>\n",
       "      <th>12531</th>\n",
       "      <td>2024-04-05 22:58:00</td>\n",
       "      <td>OTL Electrokart Begins Sales for World''s Firs...</td>\n",
       "      <td>NaN</td>\n",
       "      <td>PSV</td>\n",
       "    </tr>\n",
       "    <tr>\n",
       "      <th>12530</th>\n",
       "      <td>2024-04-05 22:58:18</td>\n",
       "      <td>\\n\\t\\t\\t\\t\\tNCAA Tournament Top Plays: Women''...</td>\n",
       "      <td>NaN</td>\n",
       "      <td>MARKET</td>\n",
       "    </tr>\n",
       "    <tr>\n",
       "      <th>12529</th>\n",
       "      <td>2024-04-05 22:58:18</td>\n",
       "      <td>\\n\\t\\t\\t\\t\\tNCAA Tournament Top Plays: Women''...</td>\n",
       "      <td>NaN</td>\n",
       "      <td>AP</td>\n",
       "    </tr>\n",
       "  </tbody>\n",
       "</table>\n",
       "<p>2529812 rows × 4 columns</p>\n",
       "</div>"
      ],
      "text/plain": [
       "                   datetime  \\\n",
       "2529811 2023-04-06 01:30:00   \n",
       "2529799 2023-04-06 01:30:00   \n",
       "2529800 2023-04-06 01:30:00   \n",
       "2529801 2023-04-06 01:30:00   \n",
       "2529802 2023-04-06 01:30:00   \n",
       "...                     ...   \n",
       "12533   2024-04-05 22:42:31   \n",
       "12532   2024-04-05 22:58:00   \n",
       "12531   2024-04-05 22:58:00   \n",
       "12530   2024-04-05 22:58:18   \n",
       "12529   2024-04-05 22:58:18   \n",
       "\n",
       "                                                  headline  \\\n",
       "2529811      Glazers raise Manchester United price to £6bn   \n",
       "2529799                     OPEC’s oil price manipulation?   \n",
       "2529800                     OPEC’s oil price manipulation?   \n",
       "2529801  Swiss order rescued bank Credit Suisse to canc...   \n",
       "2529802      Glazers raise Manchester United price to £6bn   \n",
       "...                                                    ...   \n",
       "12533    Upstart NC State ''here to win,'' says coach K...   \n",
       "12532    OTL Electrokart Begins Sales for World''s Firs...   \n",
       "12531    OTL Electrokart Begins Sales for World''s Firs...   \n",
       "12530    \\n\\t\\t\\t\\t\\tNCAA Tournament Top Plays: Women''...   \n",
       "12529    \\n\\t\\t\\t\\t\\tNCAA Tournament Top Plays: Women''...   \n",
       "\n",
       "                                                   summary  symbol  \n",
       "2529811  The Glazer family are planning to delve deeper...  MARKET  \n",
       "2529799  An explainer on why OPEC is fiddling with oil ...     USO  \n",
       "2529800  An explainer on why OPEC is fiddling with oil ...     OIL  \n",
       "2529801  Switzerland has instructed Credit Suisse to ca...      CS  \n",
       "2529802  The Glazer family are planning to delve deeper...    MANU  \n",
       "...                                                    ...     ...  \n",
       "12533                                                  NaN     ACC  \n",
       "12532                                                  NaN  MARKET  \n",
       "12531                                                  NaN     PSV  \n",
       "12530                                                  NaN  MARKET  \n",
       "12529                                                  NaN      AP  \n",
       "\n",
       "[2529812 rows x 4 columns]"
      ]
     },
     "execution_count": 88,
     "metadata": {},
     "output_type": "execute_result"
    }
   ],
   "source": [
    "news.sort_values(by=['datetime'])"
   ]
  },
  {
   "cell_type": "code",
   "execution_count": 165,
   "id": "e4e016cd",
   "metadata": {},
   "outputs": [
    {
     "name": "stdout",
     "output_type": "stream",
     "text": [
      "Got Data From: 2023-04-06 01:30:00 To: 2024-04-05 22:58:18\n"
     ]
    }
   ],
   "source": [
    "print(f\"Got Data From: {news.sort_values(by=['datetime'])['datetime'].iloc[0]} To: {news.sort_values(by=['datetime'])['datetime'].iloc[-1]}\")\n"
   ]
  },
  {
   "cell_type": "code",
   "execution_count": null,
   "id": "b77b2b4f",
   "metadata": {},
   "outputs": [],
   "source": [
    "# Today Date: 2025/05/15 \n",
    "finn_columns = ['datetime', 'headline', 'summary', 'related']\n",
    "MSFT_news = finnhun_client.company_news(symbol=['MSFT'], _from='2024-04-06', to=datetime.now().strftime('%Y-%m-%d'))\n",
    "AAPL_news = finnhun_client.company_news(symbol=['AAPL'], _from='2024-04-06', to=datetime.now().strftime('%Y-%m-%d'))\n",
    "TSLA_news = finnhun_client.company_news(symbol=['TSLA'], _from='2024-04-06', to=datetime.now().strftime('%Y-%m-%d'))\n"
   ]
  },
  {
   "cell_type": "code",
   "execution_count": 164,
   "id": "52f22932",
   "metadata": {},
   "outputs": [
    {
     "name": "stdout",
     "output_type": "stream",
     "text": [
      "Got Data From: 2025-05-07 21:25:00 To: 2025-05-15 02:08:17\n"
     ]
    }
   ],
   "source": [
    "temp = pd.DataFrame(AAPL_news)\n",
    "temp['datetime'] = pd.to_datetime(temp['datetime'].astype(int), unit='s')\n",
    "print(f\"Got Data From: {temp.sort_values(by=['datetime'])['datetime'].iloc[0]} To: {temp.sort_values(by=['datetime'])['datetime'].iloc[-1]}\")"
   ]
  },
  {
   "cell_type": "markdown",
   "id": "480fcbc5",
   "metadata": {},
   "source": [
    "We have got data form kaggle `From: 2023-04-06 01:30:00 To: 2024-04-05 22:58:18` and then we have tried to connect FinnHub data, but unfortunatly we have got a one week data `Got Data From: 2025-05-07 21:25:00 To: 2025-05-15 02:08:17`, historical data required `paid subscription`."
   ]
  },
  {
   "cell_type": "markdown",
   "id": "2ddce359",
   "metadata": {},
   "source": [
    "## Step 2: Data Cleaning and Preprocessing\n",
    "- **Goal:** Prepare the raw text data (`headline` and `summary`) for sentiment analysis.\n",
    "- **Action:** Apply text preprocessing techniques. Since you're planning to use a pre-trained BERT model, your preprocessing should be tailored to the requirements of that model. This typically involves:\n",
    "    - Handling missing or malformed text entries.\n",
    "    - Removing unnecessary elements that the BERT model doesn't need (e.g., specific HTML tags if present, though less likely with API/dataset sources).\n",
    "    - Ensuring the text is in a consistent format.\n",
    "(Less common for BERT, which handles context well, but sometimes considered depending on the specific BERT variant and task) Basic cleaning like removing extra whitespace.\n",
    "- **Input:** Raw news data from Step 1.\n",
    "- **Output:** Cleaned and formatted text data within your news records, suitable for input into your chosen BERT model."
   ]
  },
  {
   "cell_type": "code",
   "execution_count": null,
   "id": "07391ce9",
   "metadata": {},
   "outputs": [],
   "source": []
  },
  {
   "cell_type": "code",
   "execution_count": null,
   "id": "c1326eb3",
   "metadata": {},
   "outputs": [],
   "source": []
  },
  {
   "cell_type": "markdown",
   "id": "7373f8d0",
   "metadata": {},
   "source": [
    "## Step 3: Sentiment Analysis (Applying the Pre-trained BERT Model)\n",
    "\n",
    "- **Goal:** Determine the sentiment expressed in the cleaned news text for each individual news item.\n",
    "- **Action:** Load your pre-trained BERT model designed for financial sentiment (e.g., FinBERT). Pass the cleaned `headline` and `summary` text for each news record through the model. The model will analyze the text and output sentiment scores or probabilities (typically for positive, negative, and neutral).\n",
    "- **Input:** Cleaned news data from Step 2, along with the loaded pre-trained BERT model.\n",
    "- **Output:** Your dataset now includes the sentiment scores or probabilities for each individual news item, associated with its `datetime` and `symbol`."
   ]
  },
  {
   "cell_type": "code",
   "execution_count": null,
   "id": "36c4362d",
   "metadata": {},
   "outputs": [],
   "source": []
  },
  {
   "cell_type": "code",
   "execution_count": null,
   "id": "238a3c7e",
   "metadata": {},
   "outputs": [],
   "source": []
  }
 ],
 "metadata": {
  "kernelspec": {
   "display_name": "venv",
   "language": "python",
   "name": "python3"
  },
  "language_info": {
   "codemirror_mode": {
    "name": "ipython",
    "version": 3
   },
   "file_extension": ".py",
   "mimetype": "text/x-python",
   "name": "python",
   "nbconvert_exporter": "python",
   "pygments_lexer": "ipython3",
   "version": "3.8.0"
  }
 },
 "nbformat": 4,
 "nbformat_minor": 5
}
